{
 "cells": [
  {
   "cell_type": "code",
   "execution_count": 112,
   "metadata": {},
   "outputs": [],
   "source": [
    "import numpy as np\n",
    "import pandas as pd\n",
    "import matplotlib as mpl\n",
    "import matplotlib.pyplot as plt\n",
    "import seaborn as sns\n",
    "from sklearn.decomposition import PCA\n",
    "#from pca import pca"
   ]
  },
  {
   "cell_type": "markdown",
   "metadata": {},
   "source": [
    "Submisson for: https://www.kaggle.com/shilpagopal/us-crime-dataset/tasks?taskId=5696"
   ]
  },
  {
   "cell_type": "code",
   "execution_count": 113,
   "metadata": {},
   "outputs": [],
   "source": [
    "df=pd.read_csv('./pca1.txt',sep=\"\t\")"
   ]
  },
  {
   "cell_type": "code",
   "execution_count": 114,
   "metadata": {},
   "outputs": [
    {
     "data": {
      "text/html": [
       "<div>\n",
       "<style scoped>\n",
       "    .dataframe tbody tr th:only-of-type {\n",
       "        vertical-align: middle;\n",
       "    }\n",
       "\n",
       "    .dataframe tbody tr th {\n",
       "        vertical-align: top;\n",
       "    }\n",
       "\n",
       "    .dataframe thead th {\n",
       "        text-align: right;\n",
       "    }\n",
       "</style>\n",
       "<table border=\"1\" class=\"dataframe\">\n",
       "  <thead>\n",
       "    <tr style=\"text-align: right;\">\n",
       "      <th></th>\n",
       "      <th>M</th>\n",
       "      <th>So</th>\n",
       "      <th>Ed</th>\n",
       "      <th>Po1</th>\n",
       "      <th>Po2</th>\n",
       "      <th>LF</th>\n",
       "      <th>M.F</th>\n",
       "      <th>Pop</th>\n",
       "      <th>NW</th>\n",
       "      <th>U1</th>\n",
       "      <th>U2</th>\n",
       "      <th>Wealth</th>\n",
       "      <th>Ineq</th>\n",
       "      <th>Prob</th>\n",
       "      <th>Time</th>\n",
       "      <th>Crime</th>\n",
       "    </tr>\n",
       "  </thead>\n",
       "  <tbody>\n",
       "    <tr>\n",
       "      <th>0</th>\n",
       "      <td>15.1</td>\n",
       "      <td>1</td>\n",
       "      <td>9.1</td>\n",
       "      <td>5.8</td>\n",
       "      <td>5.6</td>\n",
       "      <td>0.510</td>\n",
       "      <td>95.0</td>\n",
       "      <td>33</td>\n",
       "      <td>30.1</td>\n",
       "      <td>0.108</td>\n",
       "      <td>4.1</td>\n",
       "      <td>3940</td>\n",
       "      <td>26.1</td>\n",
       "      <td>0.084602</td>\n",
       "      <td>26.2011</td>\n",
       "      <td>791</td>\n",
       "    </tr>\n",
       "    <tr>\n",
       "      <th>1</th>\n",
       "      <td>14.3</td>\n",
       "      <td>0</td>\n",
       "      <td>11.3</td>\n",
       "      <td>10.3</td>\n",
       "      <td>9.5</td>\n",
       "      <td>0.583</td>\n",
       "      <td>101.2</td>\n",
       "      <td>13</td>\n",
       "      <td>10.2</td>\n",
       "      <td>0.096</td>\n",
       "      <td>3.6</td>\n",
       "      <td>5570</td>\n",
       "      <td>19.4</td>\n",
       "      <td>0.029599</td>\n",
       "      <td>25.2999</td>\n",
       "      <td>1635</td>\n",
       "    </tr>\n",
       "    <tr>\n",
       "      <th>2</th>\n",
       "      <td>14.2</td>\n",
       "      <td>1</td>\n",
       "      <td>8.9</td>\n",
       "      <td>4.5</td>\n",
       "      <td>4.4</td>\n",
       "      <td>0.533</td>\n",
       "      <td>96.9</td>\n",
       "      <td>18</td>\n",
       "      <td>21.9</td>\n",
       "      <td>0.094</td>\n",
       "      <td>3.3</td>\n",
       "      <td>3180</td>\n",
       "      <td>25.0</td>\n",
       "      <td>0.083401</td>\n",
       "      <td>24.3006</td>\n",
       "      <td>578</td>\n",
       "    </tr>\n",
       "    <tr>\n",
       "      <th>3</th>\n",
       "      <td>13.6</td>\n",
       "      <td>0</td>\n",
       "      <td>12.1</td>\n",
       "      <td>14.9</td>\n",
       "      <td>14.1</td>\n",
       "      <td>0.577</td>\n",
       "      <td>99.4</td>\n",
       "      <td>157</td>\n",
       "      <td>8.0</td>\n",
       "      <td>0.102</td>\n",
       "      <td>3.9</td>\n",
       "      <td>6730</td>\n",
       "      <td>16.7</td>\n",
       "      <td>0.015801</td>\n",
       "      <td>29.9012</td>\n",
       "      <td>1969</td>\n",
       "    </tr>\n",
       "    <tr>\n",
       "      <th>4</th>\n",
       "      <td>14.1</td>\n",
       "      <td>0</td>\n",
       "      <td>12.1</td>\n",
       "      <td>10.9</td>\n",
       "      <td>10.1</td>\n",
       "      <td>0.591</td>\n",
       "      <td>98.5</td>\n",
       "      <td>18</td>\n",
       "      <td>3.0</td>\n",
       "      <td>0.091</td>\n",
       "      <td>2.0</td>\n",
       "      <td>5780</td>\n",
       "      <td>17.4</td>\n",
       "      <td>0.041399</td>\n",
       "      <td>21.2998</td>\n",
       "      <td>1234</td>\n",
       "    </tr>\n",
       "  </tbody>\n",
       "</table>\n",
       "</div>"
      ],
      "text/plain": [
       "      M  So    Ed   Po1   Po2     LF    M.F  Pop    NW     U1   U2  Wealth  \\\n",
       "0  15.1   1   9.1   5.8   5.6  0.510   95.0   33  30.1  0.108  4.1    3940   \n",
       "1  14.3   0  11.3  10.3   9.5  0.583  101.2   13  10.2  0.096  3.6    5570   \n",
       "2  14.2   1   8.9   4.5   4.4  0.533   96.9   18  21.9  0.094  3.3    3180   \n",
       "3  13.6   0  12.1  14.9  14.1  0.577   99.4  157   8.0  0.102  3.9    6730   \n",
       "4  14.1   0  12.1  10.9  10.1  0.591   98.5   18   3.0  0.091  2.0    5780   \n",
       "\n",
       "   Ineq      Prob     Time  Crime  \n",
       "0  26.1  0.084602  26.2011    791  \n",
       "1  19.4  0.029599  25.2999   1635  \n",
       "2  25.0  0.083401  24.3006    578  \n",
       "3  16.7  0.015801  29.9012   1969  \n",
       "4  17.4  0.041399  21.2998   1234  "
      ]
     },
     "execution_count": 114,
     "metadata": {},
     "output_type": "execute_result"
    }
   ],
   "source": [
    "df.head()"
   ]
  },
  {
   "cell_type": "code",
   "execution_count": 115,
   "metadata": {},
   "outputs": [
    {
     "data": {
      "text/html": [
       "<div>\n",
       "<style scoped>\n",
       "    .dataframe tbody tr th:only-of-type {\n",
       "        vertical-align: middle;\n",
       "    }\n",
       "\n",
       "    .dataframe tbody tr th {\n",
       "        vertical-align: top;\n",
       "    }\n",
       "\n",
       "    .dataframe thead th {\n",
       "        text-align: right;\n",
       "    }\n",
       "</style>\n",
       "<table border=\"1\" class=\"dataframe\">\n",
       "  <thead>\n",
       "    <tr style=\"text-align: right;\">\n",
       "      <th></th>\n",
       "      <th>M</th>\n",
       "      <th>So</th>\n",
       "      <th>Ed</th>\n",
       "      <th>Po1</th>\n",
       "      <th>Po2</th>\n",
       "      <th>LF</th>\n",
       "      <th>M.F</th>\n",
       "      <th>Pop</th>\n",
       "      <th>NW</th>\n",
       "      <th>U1</th>\n",
       "      <th>U2</th>\n",
       "      <th>Wealth</th>\n",
       "      <th>Ineq</th>\n",
       "      <th>Prob</th>\n",
       "      <th>Time</th>\n",
       "      <th>Crime</th>\n",
       "    </tr>\n",
       "  </thead>\n",
       "  <tbody>\n",
       "    <tr>\n",
       "      <th>42</th>\n",
       "      <td>16.2</td>\n",
       "      <td>1</td>\n",
       "      <td>9.9</td>\n",
       "      <td>7.5</td>\n",
       "      <td>7.0</td>\n",
       "      <td>0.522</td>\n",
       "      <td>99.6</td>\n",
       "      <td>40</td>\n",
       "      <td>20.8</td>\n",
       "      <td>0.073</td>\n",
       "      <td>2.7</td>\n",
       "      <td>4960</td>\n",
       "      <td>22.4</td>\n",
       "      <td>0.054902</td>\n",
       "      <td>31.9989</td>\n",
       "      <td>823</td>\n",
       "    </tr>\n",
       "    <tr>\n",
       "      <th>43</th>\n",
       "      <td>13.6</td>\n",
       "      <td>0</td>\n",
       "      <td>12.1</td>\n",
       "      <td>9.5</td>\n",
       "      <td>9.6</td>\n",
       "      <td>0.574</td>\n",
       "      <td>101.2</td>\n",
       "      <td>29</td>\n",
       "      <td>3.6</td>\n",
       "      <td>0.111</td>\n",
       "      <td>3.7</td>\n",
       "      <td>6220</td>\n",
       "      <td>16.2</td>\n",
       "      <td>0.028100</td>\n",
       "      <td>30.0001</td>\n",
       "      <td>1030</td>\n",
       "    </tr>\n",
       "    <tr>\n",
       "      <th>44</th>\n",
       "      <td>13.9</td>\n",
       "      <td>1</td>\n",
       "      <td>8.8</td>\n",
       "      <td>4.6</td>\n",
       "      <td>4.1</td>\n",
       "      <td>0.480</td>\n",
       "      <td>96.8</td>\n",
       "      <td>19</td>\n",
       "      <td>4.9</td>\n",
       "      <td>0.135</td>\n",
       "      <td>5.3</td>\n",
       "      <td>4570</td>\n",
       "      <td>24.9</td>\n",
       "      <td>0.056202</td>\n",
       "      <td>32.5996</td>\n",
       "      <td>455</td>\n",
       "    </tr>\n",
       "    <tr>\n",
       "      <th>45</th>\n",
       "      <td>12.6</td>\n",
       "      <td>0</td>\n",
       "      <td>10.4</td>\n",
       "      <td>10.6</td>\n",
       "      <td>9.7</td>\n",
       "      <td>0.599</td>\n",
       "      <td>98.9</td>\n",
       "      <td>40</td>\n",
       "      <td>2.4</td>\n",
       "      <td>0.078</td>\n",
       "      <td>2.5</td>\n",
       "      <td>5930</td>\n",
       "      <td>17.1</td>\n",
       "      <td>0.046598</td>\n",
       "      <td>16.6999</td>\n",
       "      <td>508</td>\n",
       "    </tr>\n",
       "    <tr>\n",
       "      <th>46</th>\n",
       "      <td>13.0</td>\n",
       "      <td>0</td>\n",
       "      <td>12.1</td>\n",
       "      <td>9.0</td>\n",
       "      <td>9.1</td>\n",
       "      <td>0.623</td>\n",
       "      <td>104.9</td>\n",
       "      <td>3</td>\n",
       "      <td>2.2</td>\n",
       "      <td>0.113</td>\n",
       "      <td>4.0</td>\n",
       "      <td>5880</td>\n",
       "      <td>16.0</td>\n",
       "      <td>0.052802</td>\n",
       "      <td>16.0997</td>\n",
       "      <td>849</td>\n",
       "    </tr>\n",
       "  </tbody>\n",
       "</table>\n",
       "</div>"
      ],
      "text/plain": [
       "       M  So    Ed   Po1  Po2     LF    M.F  Pop    NW     U1   U2  Wealth  \\\n",
       "42  16.2   1   9.9   7.5  7.0  0.522   99.6   40  20.8  0.073  2.7    4960   \n",
       "43  13.6   0  12.1   9.5  9.6  0.574  101.2   29   3.6  0.111  3.7    6220   \n",
       "44  13.9   1   8.8   4.6  4.1  0.480   96.8   19   4.9  0.135  5.3    4570   \n",
       "45  12.6   0  10.4  10.6  9.7  0.599   98.9   40   2.4  0.078  2.5    5930   \n",
       "46  13.0   0  12.1   9.0  9.1  0.623  104.9    3   2.2  0.113  4.0    5880   \n",
       "\n",
       "    Ineq      Prob     Time  Crime  \n",
       "42  22.4  0.054902  31.9989    823  \n",
       "43  16.2  0.028100  30.0001   1030  \n",
       "44  24.9  0.056202  32.5996    455  \n",
       "45  17.1  0.046598  16.6999    508  \n",
       "46  16.0  0.052802  16.0997    849  "
      ]
     },
     "execution_count": 115,
     "metadata": {},
     "output_type": "execute_result"
    }
   ],
   "source": [
    "df.tail()"
   ]
  },
  {
   "cell_type": "code",
   "execution_count": 116,
   "metadata": {},
   "outputs": [
    {
     "name": "stdout",
     "output_type": "stream",
     "text": [
      "<class 'pandas.core.frame.DataFrame'>\n",
      "RangeIndex: 47 entries, 0 to 46\n",
      "Data columns (total 16 columns):\n",
      " #   Column  Non-Null Count  Dtype  \n",
      "---  ------  --------------  -----  \n",
      " 0   M       47 non-null     float64\n",
      " 1   So      47 non-null     int64  \n",
      " 2   Ed      47 non-null     float64\n",
      " 3   Po1     47 non-null     float64\n",
      " 4   Po2     47 non-null     float64\n",
      " 5   LF      47 non-null     float64\n",
      " 6   M.F     47 non-null     float64\n",
      " 7   Pop     47 non-null     int64  \n",
      " 8   NW      47 non-null     float64\n",
      " 9   U1      47 non-null     float64\n",
      " 10  U2      47 non-null     float64\n",
      " 11  Wealth  47 non-null     int64  \n",
      " 12  Ineq    47 non-null     float64\n",
      " 13  Prob    47 non-null     float64\n",
      " 14  Time    47 non-null     float64\n",
      " 15  Crime   47 non-null     int64  \n",
      "dtypes: float64(12), int64(4)\n",
      "memory usage: 6.0 KB\n"
     ]
    }
   ],
   "source": [
    "df.info()"
   ]
  },
  {
   "cell_type": "code",
   "execution_count": 183,
   "metadata": {},
   "outputs": [
    {
     "data": {
      "text/html": [
       "<div>\n",
       "<style scoped>\n",
       "    .dataframe tbody tr th:only-of-type {\n",
       "        vertical-align: middle;\n",
       "    }\n",
       "\n",
       "    .dataframe tbody tr th {\n",
       "        vertical-align: top;\n",
       "    }\n",
       "\n",
       "    .dataframe thead th {\n",
       "        text-align: right;\n",
       "    }\n",
       "</style>\n",
       "<table border=\"1\" class=\"dataframe\">\n",
       "  <thead>\n",
       "    <tr style=\"text-align: right;\">\n",
       "      <th></th>\n",
       "      <th>M</th>\n",
       "      <th>So</th>\n",
       "      <th>Ed</th>\n",
       "      <th>Po1</th>\n",
       "      <th>Po2</th>\n",
       "      <th>LF</th>\n",
       "      <th>M.F</th>\n",
       "      <th>Pop</th>\n",
       "      <th>NW</th>\n",
       "      <th>U1</th>\n",
       "      <th>U2</th>\n",
       "      <th>Wealth</th>\n",
       "      <th>Ineq</th>\n",
       "      <th>Prob</th>\n",
       "      <th>Time</th>\n",
       "      <th>Crime</th>\n",
       "    </tr>\n",
       "  </thead>\n",
       "  <tbody>\n",
       "    <tr>\n",
       "      <th>count</th>\n",
       "      <td>47.000000</td>\n",
       "      <td>47.000000</td>\n",
       "      <td>47.00000</td>\n",
       "      <td>47.000000</td>\n",
       "      <td>47.000000</td>\n",
       "      <td>47.000000</td>\n",
       "      <td>47.000000</td>\n",
       "      <td>47.000000</td>\n",
       "      <td>47.000000</td>\n",
       "      <td>47.000000</td>\n",
       "      <td>47.000000</td>\n",
       "      <td>47.000000</td>\n",
       "      <td>47.000000</td>\n",
       "      <td>47.000000</td>\n",
       "      <td>47.000000</td>\n",
       "      <td>47.000000</td>\n",
       "    </tr>\n",
       "    <tr>\n",
       "      <th>mean</th>\n",
       "      <td>13.857447</td>\n",
       "      <td>0.340426</td>\n",
       "      <td>10.56383</td>\n",
       "      <td>8.500000</td>\n",
       "      <td>8.023404</td>\n",
       "      <td>0.561191</td>\n",
       "      <td>98.302128</td>\n",
       "      <td>36.617021</td>\n",
       "      <td>10.112766</td>\n",
       "      <td>0.095468</td>\n",
       "      <td>3.397872</td>\n",
       "      <td>5253.829787</td>\n",
       "      <td>19.400000</td>\n",
       "      <td>0.047091</td>\n",
       "      <td>26.597921</td>\n",
       "      <td>905.085106</td>\n",
       "    </tr>\n",
       "    <tr>\n",
       "      <th>std</th>\n",
       "      <td>1.256763</td>\n",
       "      <td>0.478975</td>\n",
       "      <td>1.11870</td>\n",
       "      <td>2.971897</td>\n",
       "      <td>2.796132</td>\n",
       "      <td>0.040412</td>\n",
       "      <td>2.946737</td>\n",
       "      <td>38.071188</td>\n",
       "      <td>10.282882</td>\n",
       "      <td>0.018029</td>\n",
       "      <td>0.844545</td>\n",
       "      <td>964.909442</td>\n",
       "      <td>3.989606</td>\n",
       "      <td>0.022737</td>\n",
       "      <td>7.086895</td>\n",
       "      <td>386.762697</td>\n",
       "    </tr>\n",
       "    <tr>\n",
       "      <th>min</th>\n",
       "      <td>11.900000</td>\n",
       "      <td>0.000000</td>\n",
       "      <td>8.70000</td>\n",
       "      <td>4.500000</td>\n",
       "      <td>4.100000</td>\n",
       "      <td>0.480000</td>\n",
       "      <td>93.400000</td>\n",
       "      <td>3.000000</td>\n",
       "      <td>0.200000</td>\n",
       "      <td>0.070000</td>\n",
       "      <td>2.000000</td>\n",
       "      <td>2880.000000</td>\n",
       "      <td>12.600000</td>\n",
       "      <td>0.006900</td>\n",
       "      <td>12.199600</td>\n",
       "      <td>342.000000</td>\n",
       "    </tr>\n",
       "    <tr>\n",
       "      <th>25%</th>\n",
       "      <td>13.000000</td>\n",
       "      <td>0.000000</td>\n",
       "      <td>9.75000</td>\n",
       "      <td>6.250000</td>\n",
       "      <td>5.850000</td>\n",
       "      <td>0.530500</td>\n",
       "      <td>96.450000</td>\n",
       "      <td>10.000000</td>\n",
       "      <td>2.400000</td>\n",
       "      <td>0.080500</td>\n",
       "      <td>2.750000</td>\n",
       "      <td>4595.000000</td>\n",
       "      <td>16.550000</td>\n",
       "      <td>0.032701</td>\n",
       "      <td>21.600350</td>\n",
       "      <td>658.500000</td>\n",
       "    </tr>\n",
       "    <tr>\n",
       "      <th>50%</th>\n",
       "      <td>13.600000</td>\n",
       "      <td>0.000000</td>\n",
       "      <td>10.80000</td>\n",
       "      <td>7.800000</td>\n",
       "      <td>7.300000</td>\n",
       "      <td>0.560000</td>\n",
       "      <td>97.700000</td>\n",
       "      <td>25.000000</td>\n",
       "      <td>7.600000</td>\n",
       "      <td>0.092000</td>\n",
       "      <td>3.400000</td>\n",
       "      <td>5370.000000</td>\n",
       "      <td>17.600000</td>\n",
       "      <td>0.042100</td>\n",
       "      <td>25.800600</td>\n",
       "      <td>831.000000</td>\n",
       "    </tr>\n",
       "    <tr>\n",
       "      <th>75%</th>\n",
       "      <td>14.600000</td>\n",
       "      <td>1.000000</td>\n",
       "      <td>11.45000</td>\n",
       "      <td>10.450000</td>\n",
       "      <td>9.700000</td>\n",
       "      <td>0.593000</td>\n",
       "      <td>99.200000</td>\n",
       "      <td>41.500000</td>\n",
       "      <td>13.250000</td>\n",
       "      <td>0.104000</td>\n",
       "      <td>3.850000</td>\n",
       "      <td>5915.000000</td>\n",
       "      <td>22.750000</td>\n",
       "      <td>0.054450</td>\n",
       "      <td>30.450750</td>\n",
       "      <td>1057.500000</td>\n",
       "    </tr>\n",
       "    <tr>\n",
       "      <th>max</th>\n",
       "      <td>17.700000</td>\n",
       "      <td>1.000000</td>\n",
       "      <td>12.20000</td>\n",
       "      <td>16.600000</td>\n",
       "      <td>15.700000</td>\n",
       "      <td>0.641000</td>\n",
       "      <td>107.100000</td>\n",
       "      <td>168.000000</td>\n",
       "      <td>42.300000</td>\n",
       "      <td>0.142000</td>\n",
       "      <td>5.800000</td>\n",
       "      <td>6890.000000</td>\n",
       "      <td>27.600000</td>\n",
       "      <td>0.119804</td>\n",
       "      <td>44.000400</td>\n",
       "      <td>1993.000000</td>\n",
       "    </tr>\n",
       "  </tbody>\n",
       "</table>\n",
       "</div>"
      ],
      "text/plain": [
       "               M         So        Ed        Po1        Po2         LF  \\\n",
       "count  47.000000  47.000000  47.00000  47.000000  47.000000  47.000000   \n",
       "mean   13.857447   0.340426  10.56383   8.500000   8.023404   0.561191   \n",
       "std     1.256763   0.478975   1.11870   2.971897   2.796132   0.040412   \n",
       "min    11.900000   0.000000   8.70000   4.500000   4.100000   0.480000   \n",
       "25%    13.000000   0.000000   9.75000   6.250000   5.850000   0.530500   \n",
       "50%    13.600000   0.000000  10.80000   7.800000   7.300000   0.560000   \n",
       "75%    14.600000   1.000000  11.45000  10.450000   9.700000   0.593000   \n",
       "max    17.700000   1.000000  12.20000  16.600000  15.700000   0.641000   \n",
       "\n",
       "              M.F         Pop         NW         U1         U2       Wealth  \\\n",
       "count   47.000000   47.000000  47.000000  47.000000  47.000000    47.000000   \n",
       "mean    98.302128   36.617021  10.112766   0.095468   3.397872  5253.829787   \n",
       "std      2.946737   38.071188  10.282882   0.018029   0.844545   964.909442   \n",
       "min     93.400000    3.000000   0.200000   0.070000   2.000000  2880.000000   \n",
       "25%     96.450000   10.000000   2.400000   0.080500   2.750000  4595.000000   \n",
       "50%     97.700000   25.000000   7.600000   0.092000   3.400000  5370.000000   \n",
       "75%     99.200000   41.500000  13.250000   0.104000   3.850000  5915.000000   \n",
       "max    107.100000  168.000000  42.300000   0.142000   5.800000  6890.000000   \n",
       "\n",
       "            Ineq       Prob       Time        Crime  \n",
       "count  47.000000  47.000000  47.000000    47.000000  \n",
       "mean   19.400000   0.047091  26.597921   905.085106  \n",
       "std     3.989606   0.022737   7.086895   386.762697  \n",
       "min    12.600000   0.006900  12.199600   342.000000  \n",
       "25%    16.550000   0.032701  21.600350   658.500000  \n",
       "50%    17.600000   0.042100  25.800600   831.000000  \n",
       "75%    22.750000   0.054450  30.450750  1057.500000  \n",
       "max    27.600000   0.119804  44.000400  1993.000000  "
      ]
     },
     "execution_count": 183,
     "metadata": {},
     "output_type": "execute_result"
    }
   ],
   "source": [
    "df.describe()"
   ]
  },
  {
   "cell_type": "code",
   "execution_count": 118,
   "metadata": {},
   "outputs": [
    {
     "name": "stdout",
     "output_type": "stream",
     "text": [
      "Columns names:\n",
      "['M', 'So', 'Ed', 'Po1', 'Po2', 'LF', 'M.F', 'Pop', 'NW', 'U1', 'U2', 'Wealth', 'Ineq', 'Prob', 'Time', 'Crime']\n"
     ]
    }
   ],
   "source": [
    "columns_names=df.columns.tolist()\n",
    "print(\"Columns names:\")\n",
    "print(columns_names)"
   ]
  },
  {
   "cell_type": "code",
   "execution_count": 119,
   "metadata": {},
   "outputs": [
    {
     "data": {
      "text/plain": [
       "(47, 16)"
      ]
     },
     "execution_count": 119,
     "metadata": {},
     "output_type": "execute_result"
    }
   ],
   "source": [
    "df.shape"
   ]
  },
  {
   "cell_type": "code",
   "execution_count": 120,
   "metadata": {},
   "outputs": [
    {
     "data": {
      "text/html": [
       "<div>\n",
       "<style scoped>\n",
       "    .dataframe tbody tr th:only-of-type {\n",
       "        vertical-align: middle;\n",
       "    }\n",
       "\n",
       "    .dataframe tbody tr th {\n",
       "        vertical-align: top;\n",
       "    }\n",
       "\n",
       "    .dataframe thead th {\n",
       "        text-align: right;\n",
       "    }\n",
       "</style>\n",
       "<table border=\"1\" class=\"dataframe\">\n",
       "  <thead>\n",
       "    <tr style=\"text-align: right;\">\n",
       "      <th></th>\n",
       "      <th>M</th>\n",
       "      <th>So</th>\n",
       "      <th>Ed</th>\n",
       "      <th>Po1</th>\n",
       "      <th>Po2</th>\n",
       "      <th>LF</th>\n",
       "      <th>M.F</th>\n",
       "      <th>Pop</th>\n",
       "      <th>NW</th>\n",
       "      <th>U1</th>\n",
       "      <th>U2</th>\n",
       "      <th>Wealth</th>\n",
       "      <th>Ineq</th>\n",
       "      <th>Prob</th>\n",
       "      <th>Time</th>\n",
       "    </tr>\n",
       "  </thead>\n",
       "  <tbody>\n",
       "    <tr>\n",
       "      <th>M</th>\n",
       "      <td>1.000000</td>\n",
       "      <td>0.584355</td>\n",
       "      <td>-0.530240</td>\n",
       "      <td>-0.505737</td>\n",
       "      <td>-0.513173</td>\n",
       "      <td>-0.160949</td>\n",
       "      <td>-0.028680</td>\n",
       "      <td>-0.280638</td>\n",
       "      <td>0.593198</td>\n",
       "      <td>-0.224381</td>\n",
       "      <td>-0.244843</td>\n",
       "      <td>-0.670055</td>\n",
       "      <td>0.639211</td>\n",
       "      <td>0.361116</td>\n",
       "      <td>0.114511</td>\n",
       "    </tr>\n",
       "    <tr>\n",
       "      <th>So</th>\n",
       "      <td>0.584355</td>\n",
       "      <td>1.000000</td>\n",
       "      <td>-0.702741</td>\n",
       "      <td>-0.372636</td>\n",
       "      <td>-0.376168</td>\n",
       "      <td>-0.505469</td>\n",
       "      <td>-0.314733</td>\n",
       "      <td>-0.049918</td>\n",
       "      <td>0.767103</td>\n",
       "      <td>-0.172419</td>\n",
       "      <td>0.071693</td>\n",
       "      <td>-0.636945</td>\n",
       "      <td>0.737181</td>\n",
       "      <td>0.530862</td>\n",
       "      <td>0.066813</td>\n",
       "    </tr>\n",
       "    <tr>\n",
       "      <th>Ed</th>\n",
       "      <td>-0.530240</td>\n",
       "      <td>-0.702741</td>\n",
       "      <td>1.000000</td>\n",
       "      <td>0.482952</td>\n",
       "      <td>0.499410</td>\n",
       "      <td>0.561178</td>\n",
       "      <td>0.436915</td>\n",
       "      <td>-0.017227</td>\n",
       "      <td>-0.664882</td>\n",
       "      <td>0.018103</td>\n",
       "      <td>-0.215682</td>\n",
       "      <td>0.735997</td>\n",
       "      <td>-0.768658</td>\n",
       "      <td>-0.389923</td>\n",
       "      <td>-0.253974</td>\n",
       "    </tr>\n",
       "    <tr>\n",
       "      <th>Po1</th>\n",
       "      <td>-0.505737</td>\n",
       "      <td>-0.372636</td>\n",
       "      <td>0.482952</td>\n",
       "      <td>1.000000</td>\n",
       "      <td>0.993586</td>\n",
       "      <td>0.121493</td>\n",
       "      <td>0.033760</td>\n",
       "      <td>0.526284</td>\n",
       "      <td>-0.213709</td>\n",
       "      <td>-0.043698</td>\n",
       "      <td>0.185093</td>\n",
       "      <td>0.787225</td>\n",
       "      <td>-0.630500</td>\n",
       "      <td>-0.473247</td>\n",
       "      <td>0.103358</td>\n",
       "    </tr>\n",
       "    <tr>\n",
       "      <th>Po2</th>\n",
       "      <td>-0.513173</td>\n",
       "      <td>-0.376168</td>\n",
       "      <td>0.499410</td>\n",
       "      <td>0.993586</td>\n",
       "      <td>1.000000</td>\n",
       "      <td>0.106350</td>\n",
       "      <td>0.022843</td>\n",
       "      <td>0.513789</td>\n",
       "      <td>-0.218768</td>\n",
       "      <td>-0.051712</td>\n",
       "      <td>0.169224</td>\n",
       "      <td>0.794262</td>\n",
       "      <td>-0.648152</td>\n",
       "      <td>-0.473027</td>\n",
       "      <td>0.075627</td>\n",
       "    </tr>\n",
       "    <tr>\n",
       "      <th>LF</th>\n",
       "      <td>-0.160949</td>\n",
       "      <td>-0.505469</td>\n",
       "      <td>0.561178</td>\n",
       "      <td>0.121493</td>\n",
       "      <td>0.106350</td>\n",
       "      <td>1.000000</td>\n",
       "      <td>0.513559</td>\n",
       "      <td>-0.123672</td>\n",
       "      <td>-0.341214</td>\n",
       "      <td>-0.229400</td>\n",
       "      <td>-0.420762</td>\n",
       "      <td>0.294632</td>\n",
       "      <td>-0.269886</td>\n",
       "      <td>-0.250086</td>\n",
       "      <td>-0.123640</td>\n",
       "    </tr>\n",
       "    <tr>\n",
       "      <th>M.F</th>\n",
       "      <td>-0.028680</td>\n",
       "      <td>-0.314733</td>\n",
       "      <td>0.436915</td>\n",
       "      <td>0.033760</td>\n",
       "      <td>0.022843</td>\n",
       "      <td>0.513559</td>\n",
       "      <td>1.000000</td>\n",
       "      <td>-0.410628</td>\n",
       "      <td>-0.327305</td>\n",
       "      <td>0.351892</td>\n",
       "      <td>-0.018692</td>\n",
       "      <td>0.179609</td>\n",
       "      <td>-0.167089</td>\n",
       "      <td>-0.050858</td>\n",
       "      <td>-0.427697</td>\n",
       "    </tr>\n",
       "    <tr>\n",
       "      <th>Pop</th>\n",
       "      <td>-0.280638</td>\n",
       "      <td>-0.049918</td>\n",
       "      <td>-0.017227</td>\n",
       "      <td>0.526284</td>\n",
       "      <td>0.513789</td>\n",
       "      <td>-0.123672</td>\n",
       "      <td>-0.410628</td>\n",
       "      <td>1.000000</td>\n",
       "      <td>0.095153</td>\n",
       "      <td>-0.038120</td>\n",
       "      <td>0.270422</td>\n",
       "      <td>0.308263</td>\n",
       "      <td>-0.126294</td>\n",
       "      <td>-0.347289</td>\n",
       "      <td>0.464210</td>\n",
       "    </tr>\n",
       "    <tr>\n",
       "      <th>NW</th>\n",
       "      <td>0.593198</td>\n",
       "      <td>0.767103</td>\n",
       "      <td>-0.664882</td>\n",
       "      <td>-0.213709</td>\n",
       "      <td>-0.218768</td>\n",
       "      <td>-0.341214</td>\n",
       "      <td>-0.327305</td>\n",
       "      <td>0.095153</td>\n",
       "      <td>1.000000</td>\n",
       "      <td>-0.156450</td>\n",
       "      <td>0.080908</td>\n",
       "      <td>-0.590107</td>\n",
       "      <td>0.677313</td>\n",
       "      <td>0.428059</td>\n",
       "      <td>0.230398</td>\n",
       "    </tr>\n",
       "    <tr>\n",
       "      <th>U1</th>\n",
       "      <td>-0.224381</td>\n",
       "      <td>-0.172419</td>\n",
       "      <td>0.018103</td>\n",
       "      <td>-0.043698</td>\n",
       "      <td>-0.051712</td>\n",
       "      <td>-0.229400</td>\n",
       "      <td>0.351892</td>\n",
       "      <td>-0.038120</td>\n",
       "      <td>-0.156450</td>\n",
       "      <td>1.000000</td>\n",
       "      <td>0.745925</td>\n",
       "      <td>0.044857</td>\n",
       "      <td>-0.063832</td>\n",
       "      <td>-0.007469</td>\n",
       "      <td>-0.169853</td>\n",
       "    </tr>\n",
       "    <tr>\n",
       "      <th>U2</th>\n",
       "      <td>-0.244843</td>\n",
       "      <td>0.071693</td>\n",
       "      <td>-0.215682</td>\n",
       "      <td>0.185093</td>\n",
       "      <td>0.169224</td>\n",
       "      <td>-0.420762</td>\n",
       "      <td>-0.018692</td>\n",
       "      <td>0.270422</td>\n",
       "      <td>0.080908</td>\n",
       "      <td>0.745925</td>\n",
       "      <td>1.000000</td>\n",
       "      <td>0.092072</td>\n",
       "      <td>0.015678</td>\n",
       "      <td>-0.061592</td>\n",
       "      <td>0.101358</td>\n",
       "    </tr>\n",
       "    <tr>\n",
       "      <th>Wealth</th>\n",
       "      <td>-0.670055</td>\n",
       "      <td>-0.636945</td>\n",
       "      <td>0.735997</td>\n",
       "      <td>0.787225</td>\n",
       "      <td>0.794262</td>\n",
       "      <td>0.294632</td>\n",
       "      <td>0.179609</td>\n",
       "      <td>0.308263</td>\n",
       "      <td>-0.590107</td>\n",
       "      <td>0.044857</td>\n",
       "      <td>0.092072</td>\n",
       "      <td>1.000000</td>\n",
       "      <td>-0.883997</td>\n",
       "      <td>-0.555335</td>\n",
       "      <td>0.000649</td>\n",
       "    </tr>\n",
       "    <tr>\n",
       "      <th>Ineq</th>\n",
       "      <td>0.639211</td>\n",
       "      <td>0.737181</td>\n",
       "      <td>-0.768658</td>\n",
       "      <td>-0.630500</td>\n",
       "      <td>-0.648152</td>\n",
       "      <td>-0.269886</td>\n",
       "      <td>-0.167089</td>\n",
       "      <td>-0.126294</td>\n",
       "      <td>0.677313</td>\n",
       "      <td>-0.063832</td>\n",
       "      <td>0.015678</td>\n",
       "      <td>-0.883997</td>\n",
       "      <td>1.000000</td>\n",
       "      <td>0.465322</td>\n",
       "      <td>0.101823</td>\n",
       "    </tr>\n",
       "    <tr>\n",
       "      <th>Prob</th>\n",
       "      <td>0.361116</td>\n",
       "      <td>0.530862</td>\n",
       "      <td>-0.389923</td>\n",
       "      <td>-0.473247</td>\n",
       "      <td>-0.473027</td>\n",
       "      <td>-0.250086</td>\n",
       "      <td>-0.050858</td>\n",
       "      <td>-0.347289</td>\n",
       "      <td>0.428059</td>\n",
       "      <td>-0.007469</td>\n",
       "      <td>-0.061592</td>\n",
       "      <td>-0.555335</td>\n",
       "      <td>0.465322</td>\n",
       "      <td>1.000000</td>\n",
       "      <td>-0.436246</td>\n",
       "    </tr>\n",
       "    <tr>\n",
       "      <th>Time</th>\n",
       "      <td>0.114511</td>\n",
       "      <td>0.066813</td>\n",
       "      <td>-0.253974</td>\n",
       "      <td>0.103358</td>\n",
       "      <td>0.075627</td>\n",
       "      <td>-0.123640</td>\n",
       "      <td>-0.427697</td>\n",
       "      <td>0.464210</td>\n",
       "      <td>0.230398</td>\n",
       "      <td>-0.169853</td>\n",
       "      <td>0.101358</td>\n",
       "      <td>0.000649</td>\n",
       "      <td>0.101823</td>\n",
       "      <td>-0.436246</td>\n",
       "      <td>1.000000</td>\n",
       "    </tr>\n",
       "  </tbody>\n",
       "</table>\n",
       "</div>"
      ],
      "text/plain": [
       "               M        So        Ed       Po1       Po2        LF       M.F  \\\n",
       "M       1.000000  0.584355 -0.530240 -0.505737 -0.513173 -0.160949 -0.028680   \n",
       "So      0.584355  1.000000 -0.702741 -0.372636 -0.376168 -0.505469 -0.314733   \n",
       "Ed     -0.530240 -0.702741  1.000000  0.482952  0.499410  0.561178  0.436915   \n",
       "Po1    -0.505737 -0.372636  0.482952  1.000000  0.993586  0.121493  0.033760   \n",
       "Po2    -0.513173 -0.376168  0.499410  0.993586  1.000000  0.106350  0.022843   \n",
       "LF     -0.160949 -0.505469  0.561178  0.121493  0.106350  1.000000  0.513559   \n",
       "M.F    -0.028680 -0.314733  0.436915  0.033760  0.022843  0.513559  1.000000   \n",
       "Pop    -0.280638 -0.049918 -0.017227  0.526284  0.513789 -0.123672 -0.410628   \n",
       "NW      0.593198  0.767103 -0.664882 -0.213709 -0.218768 -0.341214 -0.327305   \n",
       "U1     -0.224381 -0.172419  0.018103 -0.043698 -0.051712 -0.229400  0.351892   \n",
       "U2     -0.244843  0.071693 -0.215682  0.185093  0.169224 -0.420762 -0.018692   \n",
       "Wealth -0.670055 -0.636945  0.735997  0.787225  0.794262  0.294632  0.179609   \n",
       "Ineq    0.639211  0.737181 -0.768658 -0.630500 -0.648152 -0.269886 -0.167089   \n",
       "Prob    0.361116  0.530862 -0.389923 -0.473247 -0.473027 -0.250086 -0.050858   \n",
       "Time    0.114511  0.066813 -0.253974  0.103358  0.075627 -0.123640 -0.427697   \n",
       "\n",
       "             Pop        NW        U1        U2    Wealth      Ineq      Prob  \\\n",
       "M      -0.280638  0.593198 -0.224381 -0.244843 -0.670055  0.639211  0.361116   \n",
       "So     -0.049918  0.767103 -0.172419  0.071693 -0.636945  0.737181  0.530862   \n",
       "Ed     -0.017227 -0.664882  0.018103 -0.215682  0.735997 -0.768658 -0.389923   \n",
       "Po1     0.526284 -0.213709 -0.043698  0.185093  0.787225 -0.630500 -0.473247   \n",
       "Po2     0.513789 -0.218768 -0.051712  0.169224  0.794262 -0.648152 -0.473027   \n",
       "LF     -0.123672 -0.341214 -0.229400 -0.420762  0.294632 -0.269886 -0.250086   \n",
       "M.F    -0.410628 -0.327305  0.351892 -0.018692  0.179609 -0.167089 -0.050858   \n",
       "Pop     1.000000  0.095153 -0.038120  0.270422  0.308263 -0.126294 -0.347289   \n",
       "NW      0.095153  1.000000 -0.156450  0.080908 -0.590107  0.677313  0.428059   \n",
       "U1     -0.038120 -0.156450  1.000000  0.745925  0.044857 -0.063832 -0.007469   \n",
       "U2      0.270422  0.080908  0.745925  1.000000  0.092072  0.015678 -0.061592   \n",
       "Wealth  0.308263 -0.590107  0.044857  0.092072  1.000000 -0.883997 -0.555335   \n",
       "Ineq   -0.126294  0.677313 -0.063832  0.015678 -0.883997  1.000000  0.465322   \n",
       "Prob   -0.347289  0.428059 -0.007469 -0.061592 -0.555335  0.465322  1.000000   \n",
       "Time    0.464210  0.230398 -0.169853  0.101358  0.000649  0.101823 -0.436246   \n",
       "\n",
       "            Time  \n",
       "M       0.114511  \n",
       "So      0.066813  \n",
       "Ed     -0.253974  \n",
       "Po1     0.103358  \n",
       "Po2     0.075627  \n",
       "LF     -0.123640  \n",
       "M.F    -0.427697  \n",
       "Pop     0.464210  \n",
       "NW      0.230398  \n",
       "U1     -0.169853  \n",
       "U2      0.101358  \n",
       "Wealth  0.000649  \n",
       "Ineq    0.101823  \n",
       "Prob   -0.436246  \n",
       "Time    1.000000  "
      ]
     },
     "execution_count": 120,
     "metadata": {},
     "output_type": "execute_result"
    }
   ],
   "source": [
    "X=df[columns_names[0:15]]\n",
    "correlation=X.corr()\n",
    "correlation"
   ]
  },
  {
   "cell_type": "code",
   "execution_count": 121,
   "metadata": {},
   "outputs": [
    {
     "data": {
      "text/plain": [
       "Text(0.5, 1.0, 'Correlation between different features')"
      ]
     },
     "execution_count": 121,
     "metadata": {},
     "output_type": "execute_result"
    },
    {
     "data": {
      "image/png": "[encoded data removed]",
      "text/plain": [
       "<Figure size 720x720 with 2 Axes>"
      ]
     },
     "metadata": {
      "needs_background": "light"
     },
     "output_type": "display_data"
    }
   ],
   "source": [
    "plt.figure(figsize=(10,10))\n",
    "sns.heatmap(correlation, vmax=1, square=True,annot=True,cmap='cubehelix')\n",
    "plt.title('Correlation between different features')\n",
    "\n"
   ]
  },
  {
   "cell_type": "code",
   "execution_count": 122,
   "metadata": {},
   "outputs": [
    {
     "data": {
      "image/png": "[encoded data removed]",
      "text/plain": [
       "<Figure size 432x288 with 2 Axes>"
      ]
     },
     "metadata": {
      "needs_background": "light"
     },
     "output_type": "display_data"
    }
   ],
   "source": [
    "mask = np.triu(np.ones_like(correlation))\n",
    "dataplot = sns.heatmap(correlation,vmax=1,vmin=-1,square=False, cmap=\"vlag\", mask=mask)"
   ]
  },
  {
   "cell_type": "code",
   "execution_count": 128,
   "metadata": {},
   "outputs": [
    {
     "data": {
      "text/plain": [
       "Text(0.5, 1.0, 'Correlation between different features')"
      ]
     },
     "execution_count": 128,
     "metadata": {},
     "output_type": "execute_result"
    },
    {
     "data": {
      "image/png": "[encoded data removed]",
      "text/plain": [
       "<Figure size 576x576 with 2 Axes>"
      ]
     },
     "metadata": {
      "needs_background": "light"
     },
     "output_type": "display_data"
    }
   ],
   "source": [
    "from sklearn.preprocessing import StandardScaler\n",
    "X_std = StandardScaler().fit_transform(X)\n",
    "mean_vec = np.mean(X_std, axis=0)\n",
    "cov_mat = (X_std - mean_vec).T.dot((X_std - mean_vec)) / (X_std.shape[0]-1)\n",
    "plt.figure(figsize=(8,8))\n",
    "dataplot = sns.heatmap(cov_mat,vmax=1,vmin=-1,square=False, cmap=\"vlag\", mask=mask)\n",
    "plt.title('Correlation between different features')"
   ]
  },
  {
   "cell_type": "code",
   "execution_count": 269,
   "metadata": {},
   "outputs": [
    {
     "data": {
      "text/plain": [
       "array([6.14979945e+00, 2.86275674e+00, 2.04853008e+00, 1.18747319e+00,\n",
       "       9.79131558e-01, 5.65219854e-01, 3.28814745e-01, 3.14083906e-01,\n",
       "       2.40267364e-01, 2.04226168e-01, 1.79504650e-01, 1.30976849e-01,\n",
       "       7.08491194e-02, 5.97388034e-02, 4.71447269e-03])"
      ]
     },
     "execution_count": 269,
     "metadata": {},
     "output_type": "execute_result"
    }
   ],
   "source": [
    "pca = PCA().fit(X_std)\n",
    "pca.explained_variance_"
   ]
  },
  {
   "cell_type": "code",
   "execution_count": 270,
   "metadata": {},
   "outputs": [
    {
     "data": {
      "text/plain": [
       "array([4.01263510e-01, 1.86789802e-01, 1.33662956e-01, 7.74805200e-02,\n",
       "       6.38865981e-02, 3.68795933e-02, 2.14545791e-02, 2.04934180e-02,\n",
       "       1.56770195e-02, 1.33253954e-02, 1.17123602e-02, 8.54600716e-03,\n",
       "       4.62277942e-03, 3.89785100e-03, 3.07610984e-04])"
      ]
     },
     "execution_count": 270,
     "metadata": {},
     "output_type": "execute_result"
    }
   ],
   "source": [
    "pca.explained_variance_ratio_"
   ]
  },
  {
   "cell_type": "code",
   "execution_count": 271,
   "metadata": {},
   "outputs": [
    {
     "data": {
      "text/plain": [
       "array([0.40126351, 0.58805331, 0.72171627, 0.79919679, 0.86308339,\n",
       "       0.89996298, 0.92141756, 0.94191098, 0.957588  , 0.97091339,\n",
       "       0.98262575, 0.99117176, 0.99579454, 0.99969239, 1.        ])"
      ]
     },
     "execution_count": 271,
     "metadata": {},
     "output_type": "execute_result"
    }
   ],
   "source": [
    "Cumulative_explained_variance=np.cumsum(pca.explained_variance_ratio_)\n",
    "Cumulative_explained_variance"
   ]
  },
  {
   "cell_type": "code",
   "execution_count": 272,
   "metadata": {},
   "outputs": [
    {
     "data": {
      "text/plain": [
       "Text(0, 0.5, 'percentage of explained variance')"
      ]
     },
     "execution_count": 272,
     "metadata": {},
     "output_type": "execute_result"
    },
    {
     "data": {
      "image/png": "[encoded data removed]",
      "text/plain": [
       "<Figure size 432x288 with 1 Axes>"
      ]
     },
     "metadata": {
      "needs_background": "light"
     },
     "output_type": "display_data"
    }
   ],
   "source": [
    "plt.plot(pca.explained_variance_ratio_*100)\n",
    "plt.xlim(0,15,1)\n",
    "plt.xlabel('Dimensions')\n",
    "plt.ylabel('percentage of explained variance')\n"
   ]
  },
  {
   "cell_type": "code",
   "execution_count": 273,
   "metadata": {},
   "outputs": [
    {
     "data": {
      "text/plain": [
       "Text(0, 0.5, 'Cumulative explained variance')"
      ]
     },
     "execution_count": 273,
     "metadata": {},
     "output_type": "execute_result"
    },
    {
     "data": {
      "image/png": "[encoded data removed]",
      "text/plain": [
       "<Figure size 432x288 with 1 Axes>"
      ]
     },
     "metadata": {
      "needs_background": "light"
     },
     "output_type": "display_data"
    }
   ],
   "source": [
    "plt.plot(Cumulative_explained_variance*100)\n",
    "plt.xlim(0,7,1)\n",
    "plt.xlabel('Number of components')\n",
    "plt.ylabel('Cumulative explained variance')\n"
   ]
  },
  {
   "cell_type": "markdown",
   "metadata": {},
   "source": [
    "We will use 3 criteria to choose the number of components we will be keeping.\n",
    "1/ Kaiser criterion: We drop all the components with an eigen value under 1.0 so we keep the 4 first components <br>\n",
    "2/ Elbow method: By identifying a point at which the proportion of variance explained by each subsequent principal component drops off we  keep the 2 first components <br>\n",
    "3/ Cumulative explained variance: We notice that the cumulative explained variance of the first 2 components is 58.8% which is an important rate taking into account the fact that we have 15 variables we will therefore keep the first 2 components <br>\n",
    "\n",
    "=> we will keep 2 since the majority of criteria have chosen 2"
   ]
  },
  {
   "cell_type": "code",
   "execution_count": 274,
   "metadata": {},
   "outputs": [
    {
     "data": {
      "text/plain": [
       "(5, 15)"
      ]
     },
     "execution_count": 274,
     "metadata": {},
     "output_type": "execute_result"
    }
   ],
   "source": [
    "X_train=X_std[0:42]\n",
    "X_test=X_std[42:]\n",
    "Y_train=df['Crime'][0:42]\n",
    "Y_test=df['Crime'][42:]\n",
    "X_test.shape"
   ]
  },
  {
   "cell_type": "code",
   "execution_count": 302,
   "metadata": {},
   "outputs": [],
   "source": [
    "pca=PCA(n_components=2)\n",
    "X_train_pca =pca.fit_transform(X_train)"
   ]
  },
  {
   "cell_type": "code",
   "execution_count": 303,
   "metadata": {},
   "outputs": [
    {
     "name": "stdout",
     "output_type": "stream",
     "text": [
      "[[ 4.09928819  1.50677474]\n",
      " [-1.12183912 -0.80983434]\n",
      " [ 4.21393486  0.09904064]\n",
      " [-4.0933574   2.25738549]\n",
      " [-1.70832836 -1.56034128]\n",
      " [-2.96472835 -0.00734349]\n",
      " [-0.2970786   0.01479676]\n",
      " [ 0.02169309  1.41824604]\n",
      " [ 3.58360849  1.02642807]\n",
      " [-0.87532773 -3.19139958]\n",
      " [-2.8241578   2.33500482]\n",
      " [-1.05038071 -0.18902682]\n",
      " [-0.44628142 -1.20277528]\n",
      " [-0.25064002 -1.9822851 ]\n",
      " [ 3.31658803  0.22661735]\n",
      " [ 2.81757609  2.42256595]\n",
      " [ 0.31285572 -1.52962505]\n",
      " [ 0.12102556  0.57278093]\n",
      " [-3.10753732  1.21241347]\n",
      " [-2.52133402  1.53640934]\n",
      " [-1.20646584 -0.43558812]\n",
      " [ 5.58196153  1.62819728]\n",
      " [ 0.03483772  0.49519602]\n",
      " [-1.255755   -2.10449735]\n",
      " [ 0.01532476 -2.7237137 ]\n",
      " [-3.91834122 -1.3885614 ]\n",
      " [-0.88106014 -1.09900122]\n",
      " [-0.0428193  -1.54306882]\n",
      " [-4.04258997  4.40231124]\n",
      " [ 4.10578869  0.7444072 ]\n",
      " [ 0.75329491 -1.70703325]\n",
      " [-1.87907252  1.07926956]\n",
      " [ 1.93816639 -0.49949109]\n",
      " [-1.95215812 -0.78431384]\n",
      " [-1.99115094  2.83043286]\n",
      " [-1.33668862  1.31465134]\n",
      " [ 4.20964107  0.26818039]\n",
      " [ 1.00259282 -2.88035262]\n",
      " [ 3.22838358  1.1731828 ]\n",
      " [ 0.95525971  1.11559858]\n",
      " [-1.35568185 -2.19135478]\n",
      " [ 0.81095314 -1.85028372]]\n"
     ]
    }
   ],
   "source": [
    "print(X_train_pca)"
   ]
  },
  {
   "cell_type": "code",
   "execution_count": 304,
   "metadata": {},
   "outputs": [],
   "source": [
    "X_test_pca = pca.transform(X_test)"
   ]
  },
  {
   "cell_type": "code",
   "execution_count": 305,
   "metadata": {},
   "outputs": [],
   "source": [
    "from sklearn.linear_model import LinearRegression"
   ]
  },
  {
   "cell_type": "code",
   "execution_count": 306,
   "metadata": {},
   "outputs": [],
   "source": [
    "model= LinearRegression()"
   ]
  },
  {
   "cell_type": "code",
   "execution_count": 307,
   "metadata": {},
   "outputs": [
    {
     "data": {
      "text/plain": [
       "LinearRegression()"
      ]
     },
     "execution_count": 307,
     "metadata": {},
     "output_type": "execute_result"
    }
   ],
   "source": [
    "model.fit(X_train_pca,Y_train)"
   ]
  },
  {
   "cell_type": "code",
   "execution_count": 308,
   "metadata": {},
   "outputs": [
    {
     "data": {
      "text/plain": [
       "-0.4679057651407006"
      ]
     },
     "execution_count": 308,
     "metadata": {},
     "output_type": "execute_result"
    }
   ],
   "source": [
    "model.score(X_test_pca,Y_test,)"
   ]
  }
 ],
 "metadata": {
  "kernelspec": {
   "display_name": "Python 3",
   "language": "python",
   "name": "python3"
  },
  "language_info": {
   "codemirror_mode": {
    "name": "ipython",
    "version": 3
   },
   "file_extension": ".py",
   "mimetype": "text/x-python",
   "name": "python",
   "nbconvert_exporter": "python",
   "pygments_lexer": "ipython3",
   "version": "3.8.3"
  }
 },
 "nbformat": 4,
 "nbformat_minor": 4
}
